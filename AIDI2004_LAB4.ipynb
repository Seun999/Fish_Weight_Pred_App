{
  "nbformat": 4,
  "nbformat_minor": 0,
  "metadata": {
    "colab": {
      "provenance": []
    },
    "kernelspec": {
      "name": "python3",
      "display_name": "Python 3"
    },
    "language_info": {
      "name": "python"
    }
  },
  "cells": [
    {
      "cell_type": "code",
      "execution_count": 2,
      "metadata": {
        "colab": {
          "base_uri": "https://localhost:8080/"
        },
        "id": "K5u-g5g5KVbV",
        "outputId": "6c4aed7f-35b8-4527-de2d-8ce355a069a3"
      },
      "outputs": [
        {
          "output_type": "stream",
          "name": "stdout",
          "text": [
            "Species    0\n",
            "Weight     0\n",
            "Length1    0\n",
            "Length2    0\n",
            "Length3    0\n",
            "Height     0\n",
            "Width      0\n",
            "dtype: int64\n",
            "Mean Squared Error: 7007.383189853871\n",
            "R-squared: 0.9507352480054517\n",
            "Predicted Weight: 599.9449779889956\n"
          ]
        }
      ],
      "source": [
        "import pandas as pd\n",
        "import numpy as np\n",
        "from sklearn.model_selection import train_test_split\n",
        "from sklearn.linear_model import LinearRegression\n",
        "from sklearn.metrics import mean_squared_error, r2_score\n",
        "\n",
        "#Load the dataset\n",
        "url = 'https://raw.githubusercontent.com/Seun999/datasets/main/Fish.csv'\n",
        "df = pd.read_csv(url)\n",
        "\n",
        "#Check for missing values\n",
        "print(df.isnull().sum())\n",
        "df.dropna(inplace=True)\n",
        "\n",
        "#One-hot encode the 'Species' column\n",
        "df = pd.get_dummies(df, columns=['Species'])\n",
        "\n",
        "#Split the data into features (X) and the target variable (y)\n",
        "X = df.drop('Weight', axis=1)\n",
        "y = df['Weight']\n",
        "\n",
        "#Split the data into training and testing sets\n",
        "X_train, X_test, y_train, y_test = train_test_split(X, y, test_size=0.2, random_state=42)\n",
        "\n",
        "# Create the regression model\n",
        "model = LinearRegression()\n",
        "model.fit(X_train, y_train)\n",
        "\n",
        "#Making predictions on the test set\n",
        "y_pred = model.predict(X_test)\n",
        "\n",
        "#Evaluating the model\n",
        "mse = mean_squared_error(y_test, y_pred)\n",
        "r2 = r2_score(y_test, y_pred)\n",
        "\n",
        "print(\"Mean Squared Error:\", mse)\n",
        "print(\"R-squared:\", r2)\n",
        "\n",
        "#Using the model for prediction\n",
        "new_data = pd.DataFrame({\n",
        "    'Length1': [32.4],\n",
        "    'Length2': [35.0],\n",
        "    'Length3': [38.5],\n",
        "    'Height': [17.4],\n",
        "    'Width': [11.0],\n",
        "    'Species_Bream': [1],  # One-hot encoded 'Species' column for Bream (1 for Bream, 0 for other species)\n",
        "    'Species_Parkki': [0],  # One-hot encoded 'Species' column for Parkki\n",
        "    'Species_Perch': [0],   # One-hot encoded 'Species' column for Perch\n",
        "    'Species_Pike': [0],    # One-hot encoded 'Species' column for Pike\n",
        "    'Species_Roach': [0],   # One-hot encoded 'Species' column for Roach\n",
        "    'Species_Smelt': [0],   # One-hot encoded 'Species' column for Smelt\n",
        "    'Species_Whitefish': [0]  # One-hot encoded 'Species' column for Whitefish\n",
        "})\n",
        "\n",
        "predicted_weight = model.predict(new_data)\n",
        "\n",
        "print(\"Predicted Weight:\", predicted_weight[0])\n"
      ]
    }
  ]
}